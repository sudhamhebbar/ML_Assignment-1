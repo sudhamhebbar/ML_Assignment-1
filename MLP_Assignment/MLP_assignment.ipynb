{
 "cells": [
  {
   "cell_type": "code",
   "execution_count": 1,
   "metadata": {},
   "outputs": [],
   "source": [
    "import pandas as pd\n",
    "import numpy as np\n",
    "import seaborn as sns"
   ]
  },
  {
   "cell_type": "code",
   "execution_count": 2,
   "metadata": {},
   "outputs": [],
   "source": [
    "class Perceptron:\n",
    "    def __init__(self, features, epochs=1000, learning_rate=0.01):\n",
    "        self.epochs = epochs\n",
    "        self.features = features\n",
    "        self.learning_rate = learning_rate\n",
    "        self.weights = [0 for i in range(features+1)]\n",
    "        \n",
    "        print(\"Epochs\\t\\t: \",epochs)\n",
    "        print(\"Features\\t: \",features)\n",
    "        print(\"Learning Rate\\t: \",learning_rate)\n",
    "        \n",
    "    def predict(self, inp):\n",
    "        summ = self.weights[0]\n",
    "        summ += sum([inp[j]*self.weights[j+1] for j in range(self.features)])\n",
    "        return 1 if summ>0 else 0\n",
    "\n",
    "    def train(self, inp, labels):\n",
    "        for _ in range(self.epochs):\n",
    "            for res, label in zip(inp, labels):\n",
    "                prediction = self.predict(res)\n",
    "                self.weights[1:] += self.learning_rate * (label - prediction) * res\n",
    "                self.weights[0] += self.learning_rate * (label - prediction)\n",
    "        \n",
    "        print(\"\\nTrained Weight:\\n\"+\"\\n\".join(map(str,self.weights)))\n",
    "            \n",
    "        \n",
    "    def Predict2(self, testData):\n",
    "        predicted = list()\n",
    "        testLabel = list(map(int, testData[:,-1]))\n",
    "\n",
    "        print(\"Labels\\tPredicted\")\n",
    "\n",
    "        for i in range(len(testLabel)):\n",
    "            predicted.append(self.predict(test[i,:-1]))\n",
    "            print(f'{testLabel[i]}\\t{predicted[-1]}')\n",
    "\n",
    "        return testLabel, predicted\n"
   ]
  },
  {
   "cell_type": "code",
   "execution_count": 3,
   "metadata": {},
   "outputs": [],
   "source": [
    "def Confusion_Matrix(testLabel, predicted):\n",
    "    confusion = {'TP':0, 'TN':0, 'FP':0, 'FN':0}\n",
    "    for i in range(len(predicted)):\n",
    "        if testLabel[i] == 1 and predicted[i] == 1:\n",
    "            confusion['TP']+=1\n",
    "        elif testLabel[i] == 1 and predicted[i] == 0:\n",
    "            confusion['FN']+=1\n",
    "        elif testLabel[i] == 0 and predicted[i] == 1:\n",
    "            confusion['FP']+=1\n",
    "        else:\n",
    "            confusion['TN']+=1\n",
    "    return confusion\n",
    "\n",
    "def Display_Confusion_Matrix(testLabel, predicted):\n",
    "    data = {'Actual Label': testLabel, 'Predicted Label': predicted}\n",
    "    df = pd.DataFrame(data, columns=data.keys())\n",
    "    confusion_matrix = pd.crosstab(df['Actual Label'], df['Predicted Label'], rownames=['Actual'], colnames=['Predicted'])\n",
    "    sns.heatmap(confusion_matrix, annot=True)\n",
    "\n",
    "def CalculateMetrics(confusion):\n",
    "    accuracy = (confusion['TP']+confusion['TN'])/sum(confusion.values())\n",
    "    precision = confusion['TP']/(confusion['TP']+confusion['FP'])\n",
    "    recall = confusion['TP']/(confusion['TP']+confusion['FN'])\n",
    "    print(\"\\nMatrix Metrics:-\")\n",
    "    print(f\"Accuracy \\t: {round(accuracy,4)}\\nPrecision \\t: {round(precision,4)}\\nRecall  \\t: {round(recall,4)}\\n\")\n",
    "\n"
   ]
  },
  {
   "cell_type": "code",
   "execution_count": 4,
   "metadata": {},
   "outputs": [],
   "source": [
    "def create_dataset():\n",
    "    data = np.zeros((100,5), dtype=float)\n",
    "\n",
    "    np.random.seed(0)\n",
    "    data[:50,4] = 0\n",
    "    data[50:,4] = 1\n",
    "\n",
    "    for i in range(data.shape[1]-1):\n",
    "        data[:50, i] = np.random.random((1,50))*10\n",
    "        data[50:, i] = np.random.random((1,50))*50\n",
    "\n",
    "    df = pd.DataFrame(data, columns= ['Feature'+str(i) for i in range(1,5)]+['label'])\n",
    "    df.to_csv(\"DataSet.csv\", index=False)\n",
    "\n",
    "create_dataset()\n",
    "\n",
    "#Splitting Dataset into Train and test Dataset\n",
    "df = pd.read_csv('DataSet.csv')\n",
    "df.head()\n",
    "data = df.to_numpy()\n",
    "test = np.vstack((data[:20], data[50:70]))\n",
    "train = np.vstack((data[20:50], data[70:]))\n",
    "features = train[:,:-1]\n",
    "labels = train[:,-1]"
   ]
  },
  {
   "cell_type": "code",
   "execution_count": 5,
   "metadata": {},
   "outputs": [
    {
     "name": "stdout",
     "output_type": "stream",
     "text": [
      "Epochs\t\t:  1000\n",
      "Features\t:  4\n",
      "Learning Rate\t:  0.01\n",
      "\n",
      "Trained Weight:\n",
      "-4.679999999999945\n",
      "0.06845009380314658\n",
      "-0.05521632672696186\n",
      "0.25371162895331417\n",
      "0.16471684061920044\n",
      "\n",
      "Output for test data:-\n",
      "Labels\tPredicted\n",
      "0\t0\n",
      "0\t0\n",
      "0\t0\n",
      "0\t0\n",
      "0\t0\n",
      "0\t0\n",
      "0\t0\n",
      "0\t0\n",
      "0\t0\n",
      "0\t0\n",
      "0\t0\n",
      "0\t0\n",
      "0\t0\n",
      "0\t0\n",
      "0\t0\n",
      "0\t0\n",
      "0\t0\n",
      "0\t0\n",
      "0\t0\n",
      "0\t0\n",
      "1\t1\n",
      "1\t1\n",
      "1\t1\n",
      "1\t1\n",
      "1\t1\n",
      "1\t1\n",
      "1\t1\n",
      "1\t1\n",
      "1\t1\n",
      "1\t1\n",
      "1\t0\n",
      "1\t1\n",
      "1\t1\n",
      "1\t1\n",
      "1\t1\n",
      "1\t1\n",
      "1\t1\n",
      "1\t1\n",
      "1\t1\n",
      "1\t1\n"
     ]
    }
   ],
   "source": [
    "p = Perceptron(features.shape[1], 1000, 0.01)\n",
    "p.train(features, labels)\n",
    "print(\"\\nOutput for test data:-\")\n",
    "testLabel, predicted = p.Predict2(test)"
   ]
  },
  {
   "cell_type": "code",
   "execution_count": 6,
   "metadata": {},
   "outputs": [
    {
     "name": "stdout",
     "output_type": "stream",
     "text": [
      "\n",
      "The Confusion Matrix:-\n",
      "TP : 19\n",
      "TN : 20\n",
      "FP : 0\n",
      "FN : 1\n",
      "\n",
      "Matrix Metrics:-\n",
      "Accuracy \t: 0.975\n",
      "Precision \t: 1.0\n",
      "Recall  \t: 0.95\n",
      "\n"
     ]
    },
    {
     "data": {
      "image/png": "[encoded data removed]",
      "text/plain": [
       "<Figure size 432x288 with 2 Axes>"
      ]
     },
     "metadata": {
      "needs_background": "light"
     },
     "output_type": "display_data"
    }
   ],
   "source": [
    "#Confusion Metrix and Metrics\n",
    "confusion = Confusion_Matrix(testLabel, predicted)\n",
    "print(\"\\nThe Confusion Matrix:-\")\n",
    "for k,v in confusion.items():\n",
    "    print(\"{} : {}\".format(k,v))\n",
    "Display_Confusion_Matrix(testLabel, predicted)\n",
    "CalculateMetrics(confusion)"
   ]
  },
  {
   "cell_type": "code",
   "execution_count": null,
   "metadata": {},
   "outputs": [],
   "source": []
  }
 ],
 "metadata": {
  "kernelspec": {
   "display_name": "Python 3",
   "language": "python",
   "name": "python3"
  },
  "language_info": {
   "codemirror_mode": {
    "name": "ipython",
    "version": 3
   },
   "file_extension": ".py",
   "mimetype": "text/x-python",
   "name": "python",
   "nbconvert_exporter": "python",
   "pygments_lexer": "ipython3",
   "version": "3.7.3"
  }
 },
 "nbformat": 4,
 "nbformat_minor": 4
}
